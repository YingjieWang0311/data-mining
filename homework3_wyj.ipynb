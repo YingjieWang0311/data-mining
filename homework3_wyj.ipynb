{
 "cells": [
  {
   "cell_type": "markdown",
   "metadata": {},
   "source": [
    "# 互评作业三：分类、预测、与聚类\n",
    "\n",
    "**姓名**：王英杰  \n",
    "**学号**：5720201111 \n",
    "\n",
    "**GitHub**: <https://github.com/YingjieWang0311/data-mining>"
   ]
  },
  {
   "cell_type": "markdown",
   "metadata": {},
   "source": [
    "# 目录\n",
    "\n",
    "### 数据集：Hotel Booking Demand\n",
    "**1 数据基本信息**   \n",
    "\n",
    "**2 基本情况**\n",
    "\n",
    "- 城市酒店和假日酒店预订需求和入住率比较\n",
    "\n",
    "**3 用户行为**\n",
    "\n",
    "- 提前预订时间\n",
    "\n",
    "- 入住时长\n",
    "\n",
    "- 预订间隔\n",
    "\n",
    "- 餐食预订情况\n",
    "\n",
    "**4 最佳预订酒店时间**\n",
    "\n",
    "**5 利用Logistic预测酒店预订**"
   ]
  },
  {
   "cell_type": "code",
   "execution_count": 1,
   "metadata": {},
   "outputs": [],
   "source": [
    "import pandas as pd\n",
    "import numpy as np\n",
    "import matplotlib.pyplot as plt\n",
    "import statsmodels.api as sm\n",
    "from sklearn import linear_model\n",
    "from sklearn.preprocessing import PolynomialFeatures\n",
    "from sklearn.linear_model import LinearRegression\n",
    "from sklearn import metrics\n",
    "from sklearn.model_selection import train_test_split"
   ]
  },
  {
   "cell_type": "markdown",
   "metadata": {},
   "source": [
    "### 1 数据基本信息\n",
    "\n",
    "读取数据"
   ]
  },
  {
   "cell_type": "code",
   "execution_count": 2,
   "metadata": {},
   "outputs": [],
   "source": [
    "data = pd.read_csv(\"hotel_bookings.csv\")"
   ]
  },
  {
   "cell_type": "markdown",
   "metadata": {},
   "source": [
    "数据集中共有32列，119390行。其中有20列是数值属性，12列是标称属性。"
   ]
  },
  {
   "cell_type": "code",
   "execution_count": 3,
   "metadata": {},
   "outputs": [
    {
     "name": "stdout",
     "output_type": "stream",
     "text": [
      "32 columns\n",
      "119390 rows\n",
      "int64      16\n",
      "object     12\n",
      "float64     4\n",
      "dtype: int64\n"
     ]
    }
   ],
   "source": [
    "print('%d columns' % len(data.columns))\n",
    "print('%d rows' % len(data.index))\n",
    "print(data.dtypes.value_counts())"
   ]
  },
  {
   "cell_type": "markdown",
   "metadata": {},
   "source": [
    "数据的前5行展示如下："
   ]
  },
  {
   "cell_type": "code",
   "execution_count": 4,
   "metadata": {},
   "outputs": [
    {
     "data": {
      "text/html": [
       "<div>\n",
       "<style scoped>\n",
       "    .dataframe tbody tr th:only-of-type {\n",
       "        vertical-align: middle;\n",
       "    }\n",
       "\n",
       "    .dataframe tbody tr th {\n",
       "        vertical-align: top;\n",
       "    }\n",
       "\n",
       "    .dataframe thead th {\n",
       "        text-align: right;\n",
       "    }\n",
       "</style>\n",
       "<table border=\"1\" class=\"dataframe\">\n",
       "  <thead>\n",
       "    <tr style=\"text-align: right;\">\n",
       "      <th></th>\n",
       "      <th>hotel</th>\n",
       "      <th>is_canceled</th>\n",
       "      <th>lead_time</th>\n",
       "      <th>arrival_date_year</th>\n",
       "      <th>arrival_date_month</th>\n",
       "      <th>arrival_date_week_number</th>\n",
       "      <th>arrival_date_day_of_month</th>\n",
       "      <th>stays_in_weekend_nights</th>\n",
       "      <th>stays_in_week_nights</th>\n",
       "      <th>adults</th>\n",
       "      <th>...</th>\n",
       "      <th>deposit_type</th>\n",
       "      <th>agent</th>\n",
       "      <th>company</th>\n",
       "      <th>days_in_waiting_list</th>\n",
       "      <th>customer_type</th>\n",
       "      <th>adr</th>\n",
       "      <th>required_car_parking_spaces</th>\n",
       "      <th>total_of_special_requests</th>\n",
       "      <th>reservation_status</th>\n",
       "      <th>reservation_status_date</th>\n",
       "    </tr>\n",
       "  </thead>\n",
       "  <tbody>\n",
       "    <tr>\n",
       "      <th>0</th>\n",
       "      <td>Resort Hotel</td>\n",
       "      <td>0</td>\n",
       "      <td>342</td>\n",
       "      <td>2015</td>\n",
       "      <td>July</td>\n",
       "      <td>27</td>\n",
       "      <td>1</td>\n",
       "      <td>0</td>\n",
       "      <td>0</td>\n",
       "      <td>2</td>\n",
       "      <td>...</td>\n",
       "      <td>No Deposit</td>\n",
       "      <td>NaN</td>\n",
       "      <td>NaN</td>\n",
       "      <td>0</td>\n",
       "      <td>Transient</td>\n",
       "      <td>0.0</td>\n",
       "      <td>0</td>\n",
       "      <td>0</td>\n",
       "      <td>Check-Out</td>\n",
       "      <td>2015/7/1</td>\n",
       "    </tr>\n",
       "    <tr>\n",
       "      <th>1</th>\n",
       "      <td>Resort Hotel</td>\n",
       "      <td>0</td>\n",
       "      <td>737</td>\n",
       "      <td>2015</td>\n",
       "      <td>July</td>\n",
       "      <td>27</td>\n",
       "      <td>1</td>\n",
       "      <td>0</td>\n",
       "      <td>0</td>\n",
       "      <td>2</td>\n",
       "      <td>...</td>\n",
       "      <td>No Deposit</td>\n",
       "      <td>NaN</td>\n",
       "      <td>NaN</td>\n",
       "      <td>0</td>\n",
       "      <td>Transient</td>\n",
       "      <td>0.0</td>\n",
       "      <td>0</td>\n",
       "      <td>0</td>\n",
       "      <td>Check-Out</td>\n",
       "      <td>2015/7/1</td>\n",
       "    </tr>\n",
       "    <tr>\n",
       "      <th>2</th>\n",
       "      <td>Resort Hotel</td>\n",
       "      <td>0</td>\n",
       "      <td>7</td>\n",
       "      <td>2015</td>\n",
       "      <td>July</td>\n",
       "      <td>27</td>\n",
       "      <td>1</td>\n",
       "      <td>0</td>\n",
       "      <td>1</td>\n",
       "      <td>1</td>\n",
       "      <td>...</td>\n",
       "      <td>No Deposit</td>\n",
       "      <td>NaN</td>\n",
       "      <td>NaN</td>\n",
       "      <td>0</td>\n",
       "      <td>Transient</td>\n",
       "      <td>75.0</td>\n",
       "      <td>0</td>\n",
       "      <td>0</td>\n",
       "      <td>Check-Out</td>\n",
       "      <td>2015/7/2</td>\n",
       "    </tr>\n",
       "    <tr>\n",
       "      <th>3</th>\n",
       "      <td>Resort Hotel</td>\n",
       "      <td>0</td>\n",
       "      <td>13</td>\n",
       "      <td>2015</td>\n",
       "      <td>July</td>\n",
       "      <td>27</td>\n",
       "      <td>1</td>\n",
       "      <td>0</td>\n",
       "      <td>1</td>\n",
       "      <td>1</td>\n",
       "      <td>...</td>\n",
       "      <td>No Deposit</td>\n",
       "      <td>304.0</td>\n",
       "      <td>NaN</td>\n",
       "      <td>0</td>\n",
       "      <td>Transient</td>\n",
       "      <td>75.0</td>\n",
       "      <td>0</td>\n",
       "      <td>0</td>\n",
       "      <td>Check-Out</td>\n",
       "      <td>2015/7/2</td>\n",
       "    </tr>\n",
       "    <tr>\n",
       "      <th>4</th>\n",
       "      <td>Resort Hotel</td>\n",
       "      <td>0</td>\n",
       "      <td>14</td>\n",
       "      <td>2015</td>\n",
       "      <td>July</td>\n",
       "      <td>27</td>\n",
       "      <td>1</td>\n",
       "      <td>0</td>\n",
       "      <td>2</td>\n",
       "      <td>2</td>\n",
       "      <td>...</td>\n",
       "      <td>No Deposit</td>\n",
       "      <td>240.0</td>\n",
       "      <td>NaN</td>\n",
       "      <td>0</td>\n",
       "      <td>Transient</td>\n",
       "      <td>98.0</td>\n",
       "      <td>0</td>\n",
       "      <td>1</td>\n",
       "      <td>Check-Out</td>\n",
       "      <td>2015/7/3</td>\n",
       "    </tr>\n",
       "  </tbody>\n",
       "</table>\n",
       "<p>5 rows × 32 columns</p>\n",
       "</div>"
      ],
      "text/plain": [
       "          hotel  is_canceled  lead_time  arrival_date_year arrival_date_month  \\\n",
       "0  Resort Hotel            0        342               2015               July   \n",
       "1  Resort Hotel            0        737               2015               July   \n",
       "2  Resort Hotel            0          7               2015               July   \n",
       "3  Resort Hotel            0         13               2015               July   \n",
       "4  Resort Hotel            0         14               2015               July   \n",
       "\n",
       "   arrival_date_week_number  arrival_date_day_of_month  \\\n",
       "0                        27                          1   \n",
       "1                        27                          1   \n",
       "2                        27                          1   \n",
       "3                        27                          1   \n",
       "4                        27                          1   \n",
       "\n",
       "   stays_in_weekend_nights  stays_in_week_nights  adults  ...  deposit_type  \\\n",
       "0                        0                     0       2  ...    No Deposit   \n",
       "1                        0                     0       2  ...    No Deposit   \n",
       "2                        0                     1       1  ...    No Deposit   \n",
       "3                        0                     1       1  ...    No Deposit   \n",
       "4                        0                     2       2  ...    No Deposit   \n",
       "\n",
       "   agent company days_in_waiting_list customer_type   adr  \\\n",
       "0    NaN     NaN                    0     Transient   0.0   \n",
       "1    NaN     NaN                    0     Transient   0.0   \n",
       "2    NaN     NaN                    0     Transient  75.0   \n",
       "3  304.0     NaN                    0     Transient  75.0   \n",
       "4  240.0     NaN                    0     Transient  98.0   \n",
       "\n",
       "   required_car_parking_spaces  total_of_special_requests  reservation_status  \\\n",
       "0                            0                          0           Check-Out   \n",
       "1                            0                          0           Check-Out   \n",
       "2                            0                          0           Check-Out   \n",
       "3                            0                          0           Check-Out   \n",
       "4                            0                          1           Check-Out   \n",
       "\n",
       "  reservation_status_date  \n",
       "0                2015/7/1  \n",
       "1                2015/7/1  \n",
       "2                2015/7/2  \n",
       "3                2015/7/2  \n",
       "4                2015/7/3  \n",
       "\n",
       "[5 rows x 32 columns]"
      ]
     },
     "execution_count": 4,
     "metadata": {},
     "output_type": "execute_result"
    }
   ],
   "source": [
    "data.head()"
   ]
  },
  {
   "cell_type": "markdown",
   "metadata": {},
   "source": [
    "缺失值统计："
   ]
  },
  {
   "cell_type": "code",
   "execution_count": 5,
   "metadata": {},
   "outputs": [
    {
     "data": {
      "text/plain": [
       "hotel                                  0\n",
       "is_canceled                            0\n",
       "lead_time                              0\n",
       "arrival_date_year                      0\n",
       "arrival_date_month                     0\n",
       "arrival_date_week_number               0\n",
       "arrival_date_day_of_month              0\n",
       "stays_in_weekend_nights                0\n",
       "stays_in_week_nights                   0\n",
       "adults                                 0\n",
       "children                               4\n",
       "babies                                 0\n",
       "meal                                   0\n",
       "country                              488\n",
       "market_segment                         0\n",
       "distribution_channel                   0\n",
       "is_repeated_guest                      0\n",
       "previous_cancellations                 0\n",
       "previous_bookings_not_canceled         0\n",
       "reserved_room_type                     0\n",
       "assigned_room_type                     0\n",
       "booking_changes                        0\n",
       "deposit_type                           0\n",
       "agent                              16340\n",
       "company                           112593\n",
       "days_in_waiting_list                   0\n",
       "customer_type                          0\n",
       "adr                                    0\n",
       "required_car_parking_spaces            0\n",
       "total_of_special_requests              0\n",
       "reservation_status                     0\n",
       "reservation_status_date                0\n",
       "dtype: int64"
      ]
     },
     "execution_count": 5,
     "metadata": {},
     "output_type": "execute_result"
    }
   ],
   "source": [
    "data.isna().sum()"
   ]
  },
  {
   "cell_type": "markdown",
   "metadata": {},
   "source": [
    "### 2 基本情况\n",
    "\n",
    "**城市酒店和假日酒店预订需求和入住率比较**：\n",
    "\n",
    "度假酒店的预定量为40060，低于城市酒店的预定量79330.\n",
    "\n",
    "而度假酒店的入住率为72.24%，高于城市酒店的入住率58.27%。"
   ]
  },
  {
   "cell_type": "code",
   "execution_count": 6,
   "metadata": {},
   "outputs": [
    {
     "name": "stdout",
     "output_type": "stream",
     "text": [
      "度假酒店预定量：40060\n",
      "城市酒店预定量：79330\n",
      "度假酒店入住率：0.7223664503245132\n",
      "城市酒店入住率：0.5827303668221354\n"
     ]
    }
   ],
   "source": [
    "Resort_reservation = data[data['hotel'] == 'Resort Hotel'].shape[0]\n",
    "City_reservation = data[data['hotel'] == 'City Hotel'].shape[0]\n",
    "Resort_occupancy = data[(data['hotel'] == 'Resort Hotel')&(data['is_canceled'] == 0)].shape[0]\n",
    "City_occupancy = data[(data['hotel'] == 'City Hotel')&(data['is_canceled'] == 0)].shape[0]\n",
    "print('度假酒店预定量：'+str(Resort_reservation))\n",
    "print('城市酒店预定量：'+str(City_reservation))\n",
    "print('度假酒店入住率：'+str(Resort_occupancy/Resort_reservation))\n",
    "print('城市酒店入住率：'+str(City_occupancy/City_reservation))"
   ]
  },
  {
   "cell_type": "markdown",
   "metadata": {},
   "source": [
    "### 3 用户行为\n",
    "\n",
    "**提前预定时间**：\n",
    "\n",
    "从直方图可以看出，大多数用户会在入住前100天内进行酒店预订。"
   ]
  },
  {
   "cell_type": "code",
   "execution_count": 7,
   "metadata": {},
   "outputs": [
    {
     "data": {
      "image/png": "[encoded data removed]",
      "text/plain": [
       "<Figure size 432x288 with 1 Axes>"
      ]
     },
     "metadata": {
      "needs_background": "light"
     },
     "output_type": "display_data"
    }
   ],
   "source": [
    "size, scale = 1000, 10\n",
    "data['lead_time'].plot.hist(grid=True, bins=20, rwidth=0.9,\n",
    "                   color='#607c8e')\n",
    "plt.title('previous reservation time')\n",
    "plt.xlabel('lead_time')\n",
    "plt.ylabel('frequency')\n",
    "plt.grid(axis='y', alpha=0.75)\n",
    "plt.show()"
   ]
  },
  {
   "cell_type": "markdown",
   "metadata": {},
   "source": [
    "**入住时长**：\n",
    "\n",
    "从直方图可以看出，绝大多数住户的入住时长在10天之内，但也有极少数用户会常住,其中最长入住时长达到69天。"
   ]
  },
  {
   "cell_type": "code",
   "execution_count": 8,
   "metadata": {},
   "outputs": [
    {
     "data": {
      "image/png": "[encoded data removed]",
      "text/plain": [
       "<Figure size 432x288 with 1 Axes>"
      ]
     },
     "metadata": {
      "needs_background": "light"
     },
     "output_type": "display_data"
    },
    {
     "name": "stdout",
     "output_type": "stream",
     "text": [
      "最长入住时长：69\n"
     ]
    }
   ],
   "source": [
    "check_in_time = data['stays_in_weekend_nights']+data['stays_in_week_nights']\n",
    "\n",
    "size, scale = 1000, 10\n",
    "check_in_time.plot.hist(grid=True, bins=20, rwidth=0.9,\n",
    "                   color='#607c8e')\n",
    "plt.title('check_in_time')\n",
    "plt.xlabel('check_in_time')\n",
    "plt.ylabel('frequency')\n",
    "plt.grid(axis='y', alpha=0.75)\n",
    "plt.show()\n",
    "\n",
    "print(\"最长入住时长：\"+str(check_in_time.max()))"
   ]
  },
  {
   "cell_type": "markdown",
   "metadata": {},
   "source": [
    "**预定间隔**：\n",
    "\n",
    "通过查看属性**is_repeated_guest**可知，绝大多数用户都是首次入住。\n",
    "\n",
    "并且，每条记录并没有包括用户ID等能够准确标记每个用户的标识信息。\n",
    "\n",
    "因此，无法对用户的预定间隔进行分析。"
   ]
  },
  {
   "cell_type": "code",
   "execution_count": 9,
   "metadata": {},
   "outputs": [
    {
     "name": "stdout",
     "output_type": "stream",
     "text": [
      "Colunm name: is_repeated_guest\n",
      "2 different values.\n",
      "\n",
      "   counts  frequency\n",
      "0  115580   0.968088\n",
      "1    3810   0.031912\n"
     ]
    }
   ],
   "source": [
    "data['is_repeated_guest'] = data['is_repeated_guest'].astype('object')\n",
    "col = data['is_repeated_guest'].value_counts()\n",
    "print('Colunm name:', 'is_repeated_guest')\n",
    "print('%d different values.' % len(col))\n",
    "print()\n",
    "col_data = col.to_frame()\n",
    "col_data['frequency'] = col.apply(lambda x: x / len(data.index))\n",
    "col_data.rename(columns={'is_repeated_guest': 'counts'}, inplace=True)\n",
    "print(col_data.iloc[:len(col)])"
   ]
  },
  {
   "cell_type": "markdown",
   "metadata": {},
   "source": [
    "**餐食预定情况**：\n",
    "\n",
    "通过查看属性**meal**可知，BB餐食预定的用户最多，占到77.32%；\n",
    "\n",
    "而FB餐食预定最少，仅占0.67%；同时也有0.98%的用户没有订餐。"
   ]
  },
  {
   "cell_type": "code",
   "execution_count": 10,
   "metadata": {},
   "outputs": [
    {
     "name": "stdout",
     "output_type": "stream",
     "text": [
      "Colunm name: meal\n",
      "5 different values.\n",
      "\n",
      "           counts  frequency\n",
      "BB          92310   0.773180\n",
      "HB          14463   0.121141\n",
      "SC          10650   0.089203\n",
      "Undefined    1169   0.009791\n",
      "FB            798   0.006684\n"
     ]
    }
   ],
   "source": [
    "col = data['meal'].value_counts()\n",
    "print('Colunm name:', 'meal')\n",
    "print('%d different values.' % len(col))\n",
    "print()\n",
    "col_data = col.to_frame()\n",
    "col_data['frequency'] = col.apply(lambda x: x / len(data.index))\n",
    "col_data.rename(columns={'meal': 'counts'}, inplace=True)\n",
    "print(col_data.iloc[:len(col)])"
   ]
  },
  {
   "cell_type": "markdown",
   "metadata": {},
   "source": [
    "### 4 最佳预定酒店时间：\n",
    "\n",
    "通过观察折线图可知，八月份的**ADR**均值最高，一月份的**ADR**均值最低。\n",
    "\n",
    "观察折线图趋势可知，夏季月份的**ADR**均值整体上高于冬季月份的**ADR**均值。\n",
    "\n",
    "因此，最佳酒店预定时间为11月-2月。"
   ]
  },
  {
   "cell_type": "code",
   "execution_count": 11,
   "metadata": {},
   "outputs": [
    {
     "data": {
      "image/png": "[encoded data removed]",
      "text/plain": [
       "<Figure size 432x288 with 1 Axes>"
      ]
     },
     "metadata": {
      "needs_background": "light"
     },
     "output_type": "display_data"
    }
   ],
   "source": [
    "Jan = data[data['arrival_date_month']=='January']\n",
    "Feb = data[data['arrival_date_month']=='February']\n",
    "Mar = data[data['arrival_date_month']=='March']\n",
    "Apr = data[data['arrival_date_month']=='April']\n",
    "May = data[data['arrival_date_month']=='May']\n",
    "Jun = data[data['arrival_date_month']=='June']\n",
    "July =data[data['arrival_date_month']=='July']\n",
    "Aug = data[data['arrival_date_month']=='August']\n",
    "Sep = data[data['arrival_date_month']=='September']\n",
    "Oct = data[data['arrival_date_month']=='October']\n",
    "Nov = data[data['arrival_date_month']=='November']\n",
    "Dec = data[data['arrival_date_month']=='December']\n",
    "\n",
    "y = [Jan['adr'].mean(), Feb['adr'].mean(), Mar['adr'].mean(), Apr['adr'].mean(),May['adr'].mean(),\n",
    "     Jun['adr'].mean(),July['adr'].mean(),Aug['adr'].mean(),Sep['adr'].mean(),Oct['adr'].mean(),\n",
    "     Nov['adr'].mean(),Dec['adr'].mean()]\n",
    "x = [1,2,3,4,5,6,7,8,9,10,11,12]\n",
    "\n",
    "plt.plot(x,y,marker='o', mec='r', mfc='w',label='adr')\n",
    "plt.xlabel('month')\n",
    "plt.ylabel('price')\n",
    "for a, b in zip(x,y):\n",
    "    plt.text(a,b,'%.2f'% b, ha='center', va='bottom', fontsize=7)\n",
    "plt.legend(loc=2)\n",
    "plt.title(\"{}\".format('mean adr of every month'))\n",
    "plt.show()"
   ]
  },
  {
   "cell_type": "markdown",
   "metadata": {},
   "source": [
    "### 5 利用Logistic预测酒店预订\n",
    "\n",
    "选择利用属性**arrival_date_week_number**、**stays_in_weekend_nights**、**stays_in_week_nights**、**adults**来预测属性**ADR**，即每晚的房间均价。\n",
    "\n",
    "其中，属性**arrival_date_week_number**代表的是入住月份对**ADR**的影响；\n",
    "\n",
    "属性**stays_in_weekend_nights**和**stays_in_week_nights**代表的是入住天数对**ADR**的影响；\n",
    "\n",
    "属性**adults**代表的是入住人数对**ADR**的影响。\n",
    "\n",
    "拟合曲线的阶数选择为6，散点图中蓝点表示(y_test,y_pred),橙点表示(y_test,y_test)用以绘制y=x曲线。\n",
    "\n",
    "通过散点图可以看出，拟合效果很一般。"
   ]
  },
  {
   "cell_type": "code",
   "execution_count": 12,
   "metadata": {},
   "outputs": [
    {
     "name": "stdout",
     "output_type": "stream",
     "text": [
      "平均绝对误差:31.213681104696775\n",
      "均方误差MSE:1505.1816809665688\n"
     ]
    },
    {
     "data": {
      "image/png": "[encoded data removed]",
      "text/plain": [
       "<Figure size 432x288 with 1 Axes>"
      ]
     },
     "metadata": {
      "needs_background": "light"
     },
     "output_type": "display_data"
    }
   ],
   "source": [
    "x_data = data[[\"arrival_date_week_number\",\"stays_in_weekend_nights\",\"stays_in_week_nights\",\"adults\"]]\n",
    "y_data = data[\"adr\"]\n",
    "X_train,X_test, y_train, y_test = train_test_split(x_data,y_data,test_size=0.0005, random_state=0)\n",
    "\n",
    "poly_reg=PolynomialFeatures(degree=6)\n",
    "x_train_poly=poly_reg.fit_transform(X_train)\n",
    "x_test_poly=poly_reg.fit_transform(X_test)\n",
    "lin_reg=LinearRegression()\n",
    "lin_reg.fit(x_train_poly,y_train)\n",
    "y_pred=lin_reg.predict(x_test_poly)\n",
    "\n",
    "print('平均绝对误差:{}'.format(metrics.median_absolute_error(y_pred,y_test)))\n",
    "print('均方误差MSE:{}'.format(metrics.mean_squared_error(y_pred,y_test)))\n",
    "\n",
    "plt.xlabel('y_test')\n",
    "plt.ylabel('y_pred')\n",
    "plt.xlim(0, 400)\n",
    "plt.ylim(0, 400)\n",
    "plt.title('the effect of prediction')\n",
    "plt.scatter(y_test, y_pred, marker='o')\n",
    "plt.scatter(y_test, y_test)\n",
    "plt.show()"
   ]
  }
 ],
 "metadata": {
  "kernelspec": {
   "display_name": "Python 3",
   "language": "python",
   "name": "python3"
  },
  "language_info": {
   "codemirror_mode": {
    "name": "ipython",
    "version": 3
   },
   "file_extension": ".py",
   "mimetype": "text/x-python",
   "name": "python",
   "nbconvert_exporter": "python",
   "pygments_lexer": "ipython3",
   "version": "3.8.5"
  }
 },
 "nbformat": 4,
 "nbformat_minor": 4
}
