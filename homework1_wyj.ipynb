{
 "cells": [
  {
   "cell_type": "markdown",
   "metadata": {},
   "source": [
    "# 互评作业一：数据探索性分析与数据预处理\n",
    "\n",
    "**姓名**：王英杰  \n",
    "**学号**：5720201111  "
   ]
  },
  {
   "cell_type": "markdown",
   "metadata": {},
   "source": [
    "# 目录\n",
    "\n",
    "### 1. 数据集1：Wine Reviews\n",
    "**1.1 数据摘要**  \n",
    "- 数据信息  \n",
    "- 缺失值统计  \n",
    "- 数值数据摘要  \n",
    "- 标称属性摘要  \n",
    "\n",
    "**1.2 数据可视化**  \n",
    "- 直方图\n",
    "- q-q图\n",
    "- 盒图  \n",
    "\n",
    "**1.3 处理缺失数据**  \n",
    "- 处理缺失标称数据  \n",
    "- 处理缺失数值数据  \n",
    "\n",
    "### 2. 数据集2：Oakland Crime Statistics 2011 to 2016\n",
    "**2.1 数据摘要**  \n",
    "- 数据信息  \n",
    "- 缺失值统计  \n",
    "- 数值数据摘要  \n",
    "- 标称属性摘要  \n",
    "\n",
    "**2.2 处理缺失数据**  \n",
    "- 处理缺失标称数据"
   ]
  },
  {
   "cell_type": "code",
   "execution_count": 1,
   "metadata": {},
   "outputs": [],
   "source": [
    "import pandas as pd\n",
    "import numpy as np\n",
    "import matplotlib.pyplot as plt\n",
    "import statsmodels.api as sm"
   ]
  },
  {
   "cell_type": "markdown",
   "metadata": {},
   "source": [
    "# 1. 数据集1：Wine Reviews"
   ]
  },
  {
   "cell_type": "markdown",
   "metadata": {},
   "source": [
    "**加载数据**"
   ]
  },
  {
   "cell_type": "code",
   "execution_count": 2,
   "metadata": {},
   "outputs": [],
   "source": [
    "data = pd.read_csv(\"winemag-data-130k-v2.csv\")"
   ]
  },
  {
   "cell_type": "markdown",
   "metadata": {},
   "source": [
    "## 1.1 数据摘要\n",
    "\n",
    "包括“数据信息”、“缺失值统计”、“数值数据摘要”、“标称数据摘要”共4部分。"
   ]
  },
  {
   "cell_type": "markdown",
   "metadata": {},
   "source": [
    "### 数据信息\n",
    "\n",
    "数据集中共有14列，129971行。其中有3列是数值属性，11列是标称属性。"
   ]
  },
  {
   "cell_type": "code",
   "execution_count": 3,
   "metadata": {},
   "outputs": [
    {
     "name": "stdout",
     "output_type": "stream",
     "text": [
      "14 columns\n",
      "129971 rows\n",
      "object     11\n",
      "int64       2\n",
      "float64     1\n",
      "dtype: int64\n"
     ]
    }
   ],
   "source": [
    "print('%d columns' % len(data.columns))\n",
    "print('%d rows' % len(data.index))\n",
    "print(data.dtypes.value_counts())"
   ]
  },
  {
   "cell_type": "markdown",
   "metadata": {},
   "source": [
    "数据的前5行展示如下："
   ]
  },
  {
   "cell_type": "code",
   "execution_count": 4,
   "metadata": {
    "scrolled": true
   },
   "outputs": [
    {
     "data": {
      "text/html": [
       "<div>\n",
       "<style scoped>\n",
       "    .dataframe tbody tr th:only-of-type {\n",
       "        vertical-align: middle;\n",
       "    }\n",
       "\n",
       "    .dataframe tbody tr th {\n",
       "        vertical-align: top;\n",
       "    }\n",
       "\n",
       "    .dataframe thead th {\n",
       "        text-align: right;\n",
       "    }\n",
       "</style>\n",
       "<table border=\"1\" class=\"dataframe\">\n",
       "  <thead>\n",
       "    <tr style=\"text-align: right;\">\n",
       "      <th></th>\n",
       "      <th>Unnamed: 0</th>\n",
       "      <th>country</th>\n",
       "      <th>description</th>\n",
       "      <th>designation</th>\n",
       "      <th>points</th>\n",
       "      <th>price</th>\n",
       "      <th>province</th>\n",
       "      <th>region_1</th>\n",
       "      <th>region_2</th>\n",
       "      <th>taster_name</th>\n",
       "      <th>taster_twitter_handle</th>\n",
       "      <th>title</th>\n",
       "      <th>variety</th>\n",
       "      <th>winery</th>\n",
       "    </tr>\n",
       "  </thead>\n",
       "  <tbody>\n",
       "    <tr>\n",
       "      <th>0</th>\n",
       "      <td>0</td>\n",
       "      <td>Italy</td>\n",
       "      <td>Aromas include tropical fruit, broom, brimston...</td>\n",
       "      <td>Vulkà Bianco</td>\n",
       "      <td>87</td>\n",
       "      <td>NaN</td>\n",
       "      <td>Sicily &amp; Sardinia</td>\n",
       "      <td>Etna</td>\n",
       "      <td>NaN</td>\n",
       "      <td>Kerin O’Keefe</td>\n",
       "      <td>@kerinokeefe</td>\n",
       "      <td>Nicosia 2013 Vulkà Bianco  (Etna)</td>\n",
       "      <td>White Blend</td>\n",
       "      <td>Nicosia</td>\n",
       "    </tr>\n",
       "    <tr>\n",
       "      <th>1</th>\n",
       "      <td>1</td>\n",
       "      <td>Portugal</td>\n",
       "      <td>This is ripe and fruity, a wine that is smooth...</td>\n",
       "      <td>Avidagos</td>\n",
       "      <td>87</td>\n",
       "      <td>15.0</td>\n",
       "      <td>Douro</td>\n",
       "      <td>NaN</td>\n",
       "      <td>NaN</td>\n",
       "      <td>Roger Voss</td>\n",
       "      <td>@vossroger</td>\n",
       "      <td>Quinta dos Avidagos 2011 Avidagos Red (Douro)</td>\n",
       "      <td>Portuguese Red</td>\n",
       "      <td>Quinta dos Avidagos</td>\n",
       "    </tr>\n",
       "    <tr>\n",
       "      <th>2</th>\n",
       "      <td>2</td>\n",
       "      <td>US</td>\n",
       "      <td>Tart and snappy, the flavors of lime flesh and...</td>\n",
       "      <td>NaN</td>\n",
       "      <td>87</td>\n",
       "      <td>14.0</td>\n",
       "      <td>Oregon</td>\n",
       "      <td>Willamette Valley</td>\n",
       "      <td>Willamette Valley</td>\n",
       "      <td>Paul Gregutt</td>\n",
       "      <td>@paulgwine</td>\n",
       "      <td>Rainstorm 2013 Pinot Gris (Willamette Valley)</td>\n",
       "      <td>Pinot Gris</td>\n",
       "      <td>Rainstorm</td>\n",
       "    </tr>\n",
       "    <tr>\n",
       "      <th>3</th>\n",
       "      <td>3</td>\n",
       "      <td>US</td>\n",
       "      <td>Pineapple rind, lemon pith and orange blossom ...</td>\n",
       "      <td>Reserve Late Harvest</td>\n",
       "      <td>87</td>\n",
       "      <td>13.0</td>\n",
       "      <td>Michigan</td>\n",
       "      <td>Lake Michigan Shore</td>\n",
       "      <td>NaN</td>\n",
       "      <td>Alexander Peartree</td>\n",
       "      <td>NaN</td>\n",
       "      <td>St. Julian 2013 Reserve Late Harvest Riesling ...</td>\n",
       "      <td>Riesling</td>\n",
       "      <td>St. Julian</td>\n",
       "    </tr>\n",
       "    <tr>\n",
       "      <th>4</th>\n",
       "      <td>4</td>\n",
       "      <td>US</td>\n",
       "      <td>Much like the regular bottling from 2012, this...</td>\n",
       "      <td>Vintner's Reserve Wild Child Block</td>\n",
       "      <td>87</td>\n",
       "      <td>65.0</td>\n",
       "      <td>Oregon</td>\n",
       "      <td>Willamette Valley</td>\n",
       "      <td>Willamette Valley</td>\n",
       "      <td>Paul Gregutt</td>\n",
       "      <td>@paulgwine</td>\n",
       "      <td>Sweet Cheeks 2012 Vintner's Reserve Wild Child...</td>\n",
       "      <td>Pinot Noir</td>\n",
       "      <td>Sweet Cheeks</td>\n",
       "    </tr>\n",
       "  </tbody>\n",
       "</table>\n",
       "</div>"
      ],
      "text/plain": [
       "   Unnamed: 0   country                                        description  \\\n",
       "0           0     Italy  Aromas include tropical fruit, broom, brimston...   \n",
       "1           1  Portugal  This is ripe and fruity, a wine that is smooth...   \n",
       "2           2        US  Tart and snappy, the flavors of lime flesh and...   \n",
       "3           3        US  Pineapple rind, lemon pith and orange blossom ...   \n",
       "4           4        US  Much like the regular bottling from 2012, this...   \n",
       "\n",
       "                          designation  points  price           province  \\\n",
       "0                        Vulkà Bianco      87    NaN  Sicily & Sardinia   \n",
       "1                            Avidagos      87   15.0              Douro   \n",
       "2                                 NaN      87   14.0             Oregon   \n",
       "3                Reserve Late Harvest      87   13.0           Michigan   \n",
       "4  Vintner's Reserve Wild Child Block      87   65.0             Oregon   \n",
       "\n",
       "              region_1           region_2         taster_name  \\\n",
       "0                 Etna                NaN       Kerin O’Keefe   \n",
       "1                  NaN                NaN          Roger Voss   \n",
       "2    Willamette Valley  Willamette Valley        Paul Gregutt   \n",
       "3  Lake Michigan Shore                NaN  Alexander Peartree   \n",
       "4    Willamette Valley  Willamette Valley        Paul Gregutt   \n",
       "\n",
       "  taster_twitter_handle                                              title  \\\n",
       "0          @kerinokeefe                  Nicosia 2013 Vulkà Bianco  (Etna)   \n",
       "1            @vossroger      Quinta dos Avidagos 2011 Avidagos Red (Douro)   \n",
       "2           @paulgwine       Rainstorm 2013 Pinot Gris (Willamette Valley)   \n",
       "3                   NaN  St. Julian 2013 Reserve Late Harvest Riesling ...   \n",
       "4           @paulgwine   Sweet Cheeks 2012 Vintner's Reserve Wild Child...   \n",
       "\n",
       "          variety               winery  \n",
       "0     White Blend              Nicosia  \n",
       "1  Portuguese Red  Quinta dos Avidagos  \n",
       "2      Pinot Gris            Rainstorm  \n",
       "3        Riesling           St. Julian  \n",
       "4      Pinot Noir         Sweet Cheeks  "
      ]
     },
     "execution_count": 4,
     "metadata": {},
     "output_type": "execute_result"
    }
   ],
   "source": [
    "data.head()"
   ]
  },
  {
   "cell_type": "markdown",
   "metadata": {},
   "source": [
    "**缺失值统计**\n",
    "\n",
    "\n",
    "统计每一个属性的缺失值总数。"
   ]
  },
  {
   "cell_type": "code",
   "execution_count": 5,
   "metadata": {},
   "outputs": [
    {
     "data": {
      "text/plain": [
       "Unnamed: 0                   0\n",
       "country                     63\n",
       "description                  0\n",
       "designation              37465\n",
       "points                       0\n",
       "price                     8996\n",
       "province                    63\n",
       "region_1                 21247\n",
       "region_2                 79460\n",
       "taster_name              26244\n",
       "taster_twitter_handle    31213\n",
       "title                        0\n",
       "variety                      1\n",
       "winery                       0\n",
       "dtype: int64"
      ]
     },
     "execution_count": 5,
     "metadata": {},
     "output_type": "execute_result"
    }
   ],
   "source": [
    "data.isna().sum()"
   ]
  },
  {
   "cell_type": "markdown",
   "metadata": {},
   "source": [
    "**数值数据摘要**\n",
    "\n",
    "数值属性的总数、均值、标准差以及五数概括如下所示。其中第一列为数据id，不予考虑。"
   ]
  },
  {
   "cell_type": "code",
   "execution_count": 6,
   "metadata": {},
   "outputs": [
    {
     "data": {
      "text/html": [
       "<div>\n",
       "<style scoped>\n",
       "    .dataframe tbody tr th:only-of-type {\n",
       "        vertical-align: middle;\n",
       "    }\n",
       "\n",
       "    .dataframe tbody tr th {\n",
       "        vertical-align: top;\n",
       "    }\n",
       "\n",
       "    .dataframe thead th {\n",
       "        text-align: right;\n",
       "    }\n",
       "</style>\n",
       "<table border=\"1\" class=\"dataframe\">\n",
       "  <thead>\n",
       "    <tr style=\"text-align: right;\">\n",
       "      <th></th>\n",
       "      <th>Unnamed: 0</th>\n",
       "      <th>points</th>\n",
       "      <th>price</th>\n",
       "    </tr>\n",
       "  </thead>\n",
       "  <tbody>\n",
       "    <tr>\n",
       "      <th>count</th>\n",
       "      <td>129971.000000</td>\n",
       "      <td>129971.000000</td>\n",
       "      <td>120975.000000</td>\n",
       "    </tr>\n",
       "    <tr>\n",
       "      <th>mean</th>\n",
       "      <td>64985.000000</td>\n",
       "      <td>88.447138</td>\n",
       "      <td>35.363389</td>\n",
       "    </tr>\n",
       "    <tr>\n",
       "      <th>std</th>\n",
       "      <td>37519.540256</td>\n",
       "      <td>3.039730</td>\n",
       "      <td>41.022218</td>\n",
       "    </tr>\n",
       "    <tr>\n",
       "      <th>min</th>\n",
       "      <td>0.000000</td>\n",
       "      <td>80.000000</td>\n",
       "      <td>4.000000</td>\n",
       "    </tr>\n",
       "    <tr>\n",
       "      <th>25%</th>\n",
       "      <td>32492.500000</td>\n",
       "      <td>86.000000</td>\n",
       "      <td>17.000000</td>\n",
       "    </tr>\n",
       "    <tr>\n",
       "      <th>50%</th>\n",
       "      <td>64985.000000</td>\n",
       "      <td>88.000000</td>\n",
       "      <td>25.000000</td>\n",
       "    </tr>\n",
       "    <tr>\n",
       "      <th>75%</th>\n",
       "      <td>97477.500000</td>\n",
       "      <td>91.000000</td>\n",
       "      <td>42.000000</td>\n",
       "    </tr>\n",
       "    <tr>\n",
       "      <th>max</th>\n",
       "      <td>129970.000000</td>\n",
       "      <td>100.000000</td>\n",
       "      <td>3300.000000</td>\n",
       "    </tr>\n",
       "  </tbody>\n",
       "</table>\n",
       "</div>"
      ],
      "text/plain": [
       "          Unnamed: 0         points          price\n",
       "count  129971.000000  129971.000000  120975.000000\n",
       "mean    64985.000000      88.447138      35.363389\n",
       "std     37519.540256       3.039730      41.022218\n",
       "min         0.000000      80.000000       4.000000\n",
       "25%     32492.500000      86.000000      17.000000\n",
       "50%     64985.000000      88.000000      25.000000\n",
       "75%     97477.500000      91.000000      42.000000\n",
       "max    129970.000000     100.000000    3300.000000"
      ]
     },
     "execution_count": 6,
     "metadata": {},
     "output_type": "execute_result"
    }
   ],
   "source": [
    "data.describe()"
   ]
  },
  {
   "cell_type": "markdown",
   "metadata": {},
   "source": [
    "**标称属性摘要**\n",
    "\n",
    "定义`summary_column(col_name)`函数，统计标称属性`col_name`中不同值出现的频数和频率，并展示出现频率最高的前15个值。"
   ]
  },
  {
   "cell_type": "code",
   "execution_count": 7,
   "metadata": {},
   "outputs": [],
   "source": [
    "def summary_column(col_name):\n",
    "    col = data[col_name].value_counts()\n",
    "    print('Colunm name:', col_name)\n",
    "    print('%d different values.' % len(col))\n",
    "    print()\n",
    "    col = data[col_name].value_counts()\n",
    "    col_data = col.to_frame()\n",
    "    col_data['frequency'] = col.apply(lambda x: x / len(data.index))\n",
    "    col_data.rename(columns={col_name: 'counts'}, inplace=True)\n",
    "    if len(col)>15:\n",
    "       print(col_data.iloc[:15])\n",
    "       print('...')\n",
    "    else:\n",
    "        print(col_data.iloc[:len(col)])\n",
    "    if len(col)>15:\n",
    "       plt.bar(np.arange(15), col.iloc[:15])\n",
    "    else: \n",
    "       plt.bar(np.arange(len(col)),col.iloc[:len(col)])\n",
    "    plt.title(col_name)\n",
    "    plt.show()"
   ]
  },
  {
   "cell_type": "markdown",
   "metadata": {},
   "source": [
    "统计**country**属性如下所示。"
   ]
  },
  {
   "cell_type": "code",
   "execution_count": 8,
   "metadata": {},
   "outputs": [
    {
     "name": "stdout",
     "output_type": "stream",
     "text": [
      "Colunm name: country\n",
      "43 different values.\n",
      "\n",
      "              counts  frequency\n",
      "US             54504   0.419355\n",
      "France         22093   0.169984\n",
      "Italy          19540   0.150341\n",
      "Spain           6645   0.051127\n",
      "Portugal        5691   0.043787\n",
      "Chile           4472   0.034408\n",
      "Argentina       3800   0.029237\n",
      "Austria         3345   0.025737\n",
      "Australia       2329   0.017919\n",
      "Germany         2165   0.016658\n",
      "New Zealand     1419   0.010918\n",
      "South Africa    1401   0.010779\n",
      "Israel           505   0.003885\n",
      "Greece           466   0.003585\n",
      "Canada           257   0.001977\n",
      "...\n"
     ]
    },
    {
     "data": {
      "image/png": "[encoded data removed]",
      "text/plain": [
       "<Figure size 432x288 with 1 Axes>"
      ]
     },
     "metadata": {
      "needs_background": "light"
     },
     "output_type": "display_data"
    }
   ],
   "source": [
    "summary_column('country')"
   ]
  },
  {
   "cell_type": "markdown",
   "metadata": {},
   "source": [
    "统计**designation**属性如下所示。"
   ]
  },
  {
   "cell_type": "code",
   "execution_count": 9,
   "metadata": {},
   "outputs": [
    {
     "name": "stdout",
     "output_type": "stream",
     "text": [
      "Colunm name: designation\n",
      "37979 different values.\n",
      "\n",
      "                 counts  frequency\n",
      "Reserve            2009   0.015457\n",
      "Estate             1322   0.010171\n",
      "Reserva            1259   0.009687\n",
      "Riserva             698   0.005370\n",
      "Estate Grown        621   0.004778\n",
      "Brut                513   0.003947\n",
      "Dry                 413   0.003178\n",
      "Barrel sample       375   0.002885\n",
      "Crianza             343   0.002639\n",
      "Estate Bottled      342   0.002631\n",
      "Vieilles Vignes     308   0.002370\n",
      "Brut Rosé           276   0.002124\n",
      "Gran Reserva        261   0.002008\n",
      "Barrel Sample       252   0.001939\n",
      "Tradition           238   0.001831\n",
      "...\n"
     ]
    },
    {
     "data": {
      "image/png": "[encoded data removed]",
      "text/plain": [
       "<Figure size 432x288 with 1 Axes>"
      ]
     },
     "metadata": {
      "needs_background": "light"
     },
     "output_type": "display_data"
    }
   ],
   "source": [
    "summary_column('designation')"
   ]
  },
  {
   "cell_type": "markdown",
   "metadata": {},
   "source": [
    "统计**province**属性如下所示。"
   ]
  },
  {
   "cell_type": "code",
   "execution_count": 10,
   "metadata": {},
   "outputs": [
    {
     "name": "stdout",
     "output_type": "stream",
     "text": [
      "Colunm name: province\n",
      "425 different values.\n",
      "\n",
      "                    counts  frequency\n",
      "California           36247   0.278885\n",
      "Washington            8639   0.066469\n",
      "Bordeaux              5941   0.045710\n",
      "Tuscany               5897   0.045372\n",
      "Oregon                5373   0.041340\n",
      "Burgundy              3980   0.030622\n",
      "Northern Spain        3851   0.029630\n",
      "Piedmont              3729   0.028691\n",
      "Mendoza Province      3264   0.025113\n",
      "Veneto                2716   0.020897\n",
      "New York              2688   0.020682\n",
      "Alsace                2440   0.018773\n",
      "Northeastern Italy    2138   0.016450\n",
      "Loire Valley          1856   0.014280\n",
      "Sicily & Sardinia     1797   0.013826\n",
      "...\n"
     ]
    },
    {
     "data": {
      "image/png": "[encoded data removed]",
      "text/plain": [
       "<Figure size 432x288 with 1 Axes>"
      ]
     },
     "metadata": {
      "needs_background": "light"
     },
     "output_type": "display_data"
    }
   ],
   "source": [
    "summary_column('province')"
   ]
  },
  {
   "cell_type": "markdown",
   "metadata": {},
   "source": [
    "统计**taster_name**属性如下所示。"
   ]
  },
  {
   "cell_type": "code",
   "execution_count": 11,
   "metadata": {},
   "outputs": [
    {
     "name": "stdout",
     "output_type": "stream",
     "text": [
      "Colunm name: taster_name\n",
      "19 different values.\n",
      "\n",
      "                    counts  frequency\n",
      "Roger Voss           25514   0.196305\n",
      "Michael Schachner    15134   0.116441\n",
      "Kerin O’Keefe        10776   0.082911\n",
      "Virginie Boone        9537   0.073378\n",
      "Paul Gregutt          9532   0.073339\n",
      "Matt Kettmann         6332   0.048719\n",
      "Joe Czerwinski        5147   0.039601\n",
      "Sean P. Sullivan      4966   0.038209\n",
      "Anna Lee C. Iijima    4415   0.033969\n",
      "Jim Gordon            4177   0.032138\n",
      "Anne Krebiehl MW      3685   0.028352\n",
      "Lauren Buzzeo         1835   0.014119\n",
      "Susan Kostrzewa       1085   0.008348\n",
      "Mike DeSimone          514   0.003955\n",
      "Jeff Jenssen           491   0.003778\n",
      "...\n"
     ]
    },
    {
     "data": {
      "image/png": "[encoded data removed]",
      "text/plain": [
       "<Figure size 432x288 with 1 Axes>"
      ]
     },
     "metadata": {
      "needs_background": "light"
     },
     "output_type": "display_data"
    }
   ],
   "source": [
    "summary_column('taster_name')"
   ]
  },
  {
   "cell_type": "markdown",
   "metadata": {},
   "source": [
    "统计**variety**属性如下所示。"
   ]
  },
  {
   "cell_type": "code",
   "execution_count": 12,
   "metadata": {},
   "outputs": [
    {
     "name": "stdout",
     "output_type": "stream",
     "text": [
      "Colunm name: variety\n",
      "707 different values.\n",
      "\n",
      "                          counts  frequency\n",
      "Pinot Noir                 13272   0.102115\n",
      "Chardonnay                 11753   0.090428\n",
      "Cabernet Sauvignon          9472   0.072878\n",
      "Red Blend                   8946   0.068831\n",
      "Bordeaux-style Red Blend    6915   0.053204\n",
      "Riesling                    5189   0.039924\n",
      "Sauvignon Blanc             4967   0.038216\n",
      "Syrah                       4142   0.031869\n",
      "Rosé                        3564   0.027422\n",
      "Merlot                      3102   0.023867\n",
      "Nebbiolo                    2804   0.021574\n",
      "Zinfandel                   2714   0.020882\n",
      "Sangiovese                  2707   0.020828\n",
      "Malbec                      2652   0.020405\n",
      "Portuguese Red              2466   0.018973\n",
      "...\n"
     ]
    },
    {
     "data": {
      "image/png": "[encoded data removed]",
      "text/plain": [
       "<Figure size 432x288 with 1 Axes>"
      ]
     },
     "metadata": {
      "needs_background": "light"
     },
     "output_type": "display_data"
    }
   ],
   "source": [
    "summary_column('variety')"
   ]
  },
  {
   "cell_type": "markdown",
   "metadata": {},
   "source": [
    "## 1.2 数据可视化\n",
    "\n",
    "包括“直方图”、“qq图”、“盒图”共3部分"
   ]
  },
  {
   "cell_type": "markdown",
   "metadata": {},
   "source": [
    "定义函数`distribute(col_name)`，对指定数值属性列`distribute(col_name)`，首先展示其频率分布直方图，然后将其标准化为均值为0，方差为1的分布，与标准正态分布一起绘制qq图,最终，绘制其盒图。"
   ]
  },
  {
   "cell_type": "code",
   "execution_count": 13,
   "metadata": {},
   "outputs": [],
   "source": [
    "def distribute(col_name):\n",
    "    col = data[col_name].dropna()\n",
    "    plt.hist(col, 20)\n",
    "    plt.title(col_name)\n",
    "    plt.show()\n",
    "    \n",
    "    col = (col - col.mean()) / col.std()\n",
    "    fig = sm.qqplot(col, line='45')\n",
    "    plt.title('q-q plot')\n",
    "    plt.show()\n",
    "    \n",
    "    fig, ax = plt.subplots(figsize=(5, 6))\n",
    "    ax.set_title(col_name)\n",
    "    ax.boxplot(data[col_name].dropna())\n",
    "    plt.show()"
   ]
  },
  {
   "cell_type": "markdown",
   "metadata": {},
   "source": [
    "属性**points**展示如下。从q-q图可以看出，**points**的分布特性与正态分布类似。从直方图和盒图可以看出，**points**呈现正倾斜分布特性。"
   ]
  },
  {
   "cell_type": "code",
   "execution_count": 14,
   "metadata": {},
   "outputs": [
    {
     "data": {
      "image/png": "[encoded data removed]",
      "text/plain": [
       "<Figure size 432x288 with 1 Axes>"
      ]
     },
     "metadata": {
      "needs_background": "light"
     },
     "output_type": "display_data"
    },
    {
     "data": {
      "image/png": "[encoded data removed]",
      "text/plain": [
       "<Figure size 432x288 with 1 Axes>"
      ]
     },
     "metadata": {
      "needs_background": "light"
     },
     "output_type": "display_data"
    },
    {
     "data": {
      "image/png": "[encoded data removed]",
      "text/plain": [
       "<Figure size 360x432 with 1 Axes>"
      ]
     },
     "metadata": {
      "needs_background": "light"
     },
     "output_type": "display_data"
    }
   ],
   "source": [
    "distribute('points')"
   ]
  },
  {
   "cell_type": "markdown",
   "metadata": {},
   "source": [
    "属性**price**展示如下。从q-q图我们可以看出，**price**的分布特性与正态分布不类似。从直方图和盒图可以看出，**price**呈现出很强的正倾斜分布特性。"
   ]
  },
  {
   "cell_type": "code",
   "execution_count": 15,
   "metadata": {},
   "outputs": [
    {
     "data": {
      "image/png": "[encoded data removed]",
      "text/plain": [
       "<Figure size 432x288 with 1 Axes>"
      ]
     },
     "metadata": {
      "needs_background": "light"
     },
     "output_type": "display_data"
    },
    {
     "data": {
      "image/png": "[encoded data removed]",
      "text/plain": [
       "<Figure size 432x288 with 1 Axes>"
      ]
     },
     "metadata": {
      "needs_background": "light"
     },
     "output_type": "display_data"
    },
    {
     "data": {
      "image/png": "[encoded data removed]",
      "text/plain": [
       "<Figure size 360x432 with 1 Axes>"
      ]
     },
     "metadata": {
      "needs_background": "light"
     },
     "output_type": "display_data"
    }
   ],
   "source": [
    "distribute('price')"
   ]
  },
  {
   "cell_type": "markdown",
   "metadata": {},
   "source": [
    "## 1.3 处理缺失数据\n",
    "\n",
    "包括“处理缺失标称数据”与“处理缺失数值数据”两部分。"
   ]
  },
  {
   "cell_type": "markdown",
   "metadata": {},
   "source": [
    "### 处理缺失标称数据\n",
    "\n",
    "定义函数`show_column(col)`来展示数据。"
   ]
  },
  {
   "cell_type": "code",
   "execution_count": 16,
   "metadata": {},
   "outputs": [],
   "source": [
    "def show_column(col):\n",
    "    col_value = col.value_counts()\n",
    "    col_df = col_value.to_frame()\n",
    "    col_df['frequency'] = col_value.apply(lambda x: x / len(col))\n",
    "    if len(col_value)>15:\n",
    "        print(col_df.iloc[:15])\n",
    "        print('...')\n",
    "    else:\n",
    "        print(col_df.iloc[:15])\n",
    "    if len(col_value)>15:\n",
    "        plt.bar(np.arange(15), col_value.iloc[:15])\n",
    "        plt.title(col_name)\n",
    "        plt.show()\n",
    "    else:\n",
    "        plt.bar(np.arange(len(col_value)), col_value.iloc[:len(col_value)])\n",
    "        plt.title(col_name)\n",
    "        plt.show()"
   ]
  },
  {
   "cell_type": "markdown",
   "metadata": {},
   "source": [
    "属性**designation**中共有129971个数据，其中37465个数据为空数据。"
   ]
  },
  {
   "cell_type": "code",
   "execution_count": 17,
   "metadata": {},
   "outputs": [
    {
     "name": "stdout",
     "output_type": "stream",
     "text": [
      "column: designation\n",
      "total: 129971\n",
      "nan: 37465\n"
     ]
    }
   ],
   "source": [
    "col_name = 'designation'\n",
    "col = data[col_name]\n",
    "\n",
    "print('column:', col_name)\n",
    "print('total:', len(col))\n",
    "print('nan:', col.isna().sum())"
   ]
  },
  {
   "cell_type": "markdown",
   "metadata": {},
   "source": [
    "删除属性**designation**中的空数据，结果统计如下。"
   ]
  },
  {
   "cell_type": "code",
   "execution_count": 18,
   "metadata": {},
   "outputs": [
    {
     "name": "stdout",
     "output_type": "stream",
     "text": [
      "                 designation  frequency\n",
      "Reserve                 2009   0.021718\n",
      "Estate                  1322   0.014291\n",
      "Reserva                 1259   0.013610\n",
      "Riserva                  698   0.007545\n",
      "Estate Grown             621   0.006713\n",
      "Brut                     513   0.005546\n",
      "Dry                      413   0.004465\n",
      "Barrel sample            375   0.004054\n",
      "Crianza                  343   0.003708\n",
      "Estate Bottled           342   0.003697\n",
      "Vieilles Vignes          308   0.003330\n",
      "Brut Rosé                276   0.002984\n",
      "Gran Reserva             261   0.002821\n",
      "Barrel Sample            252   0.002724\n",
      "Tradition                238   0.002573\n",
      "...\n"
     ]
    },
    {
     "data": {
      "image/png": "[encoded data removed]",
      "text/plain": [
       "<Figure size 432x288 with 1 Axes>"
      ]
     },
     "metadata": {
      "needs_background": "light"
     },
     "output_type": "display_data"
    }
   ],
   "source": [
    "col_1 = col.dropna()\n",
    "show_column(col_1)"
   ]
  },
  {
   "cell_type": "markdown",
   "metadata": {},
   "source": [
    "属性**country**中共有129971个数据，其中63个数据为空数据。"
   ]
  },
  {
   "cell_type": "code",
   "execution_count": 19,
   "metadata": {},
   "outputs": [
    {
     "name": "stdout",
     "output_type": "stream",
     "text": [
      "column: country\n",
      "total: 129971\n",
      "nan: 63\n"
     ]
    }
   ],
   "source": [
    "col_name = 'country'\n",
    "col = data[col_name]\n",
    "\n",
    "print('column:', col_name)\n",
    "print('total:', len(col))\n",
    "print('nan:', col.isna().sum())"
   ]
  },
  {
   "cell_type": "markdown",
   "metadata": {},
   "source": [
    "利用属性**country**中的众数来填补缺失值。"
   ]
  },
  {
   "cell_type": "code",
   "execution_count": 20,
   "metadata": {},
   "outputs": [
    {
     "name": "stdout",
     "output_type": "stream",
     "text": [
      "              country  frequency\n",
      "US              54567   0.419840\n",
      "France          22093   0.169984\n",
      "Italy           19540   0.150341\n",
      "Spain            6645   0.051127\n",
      "Portugal         5691   0.043787\n",
      "Chile            4472   0.034408\n",
      "Argentina        3800   0.029237\n",
      "Austria          3345   0.025737\n",
      "Australia        2329   0.017919\n",
      "Germany          2165   0.016658\n",
      "New Zealand      1419   0.010918\n",
      "South Africa     1401   0.010779\n",
      "Israel            505   0.003885\n",
      "Greece            466   0.003585\n",
      "Canada            257   0.001977\n",
      "...\n"
     ]
    },
    {
     "data": {
      "image/png": "[encoded data removed]",
      "text/plain": [
       "<Figure size 432x288 with 1 Axes>"
      ]
     },
     "metadata": {
      "needs_background": "light"
     },
     "output_type": "display_data"
    }
   ],
   "source": [
    "col_2 = col.fillna(col.mode()[0])\n",
    "show_column(col_2)"
   ]
  },
  {
   "cell_type": "markdown",
   "metadata": {},
   "source": [
    "### 处理缺失数值数据"
   ]
  },
  {
   "cell_type": "markdown",
   "metadata": {},
   "source": [
    "**price**列中共有129971个数据，其中8996个数据为空数据。"
   ]
  },
  {
   "cell_type": "code",
   "execution_count": 21,
   "metadata": {},
   "outputs": [
    {
     "name": "stdout",
     "output_type": "stream",
     "text": [
      "column: price\n",
      "total: 129971\n",
      "nan: 8996\n"
     ]
    }
   ],
   "source": [
    "col_name = 'price'\n",
    "col = data[col_name]\n",
    "\n",
    "print('column:', col_name)\n",
    "print('total:', len(col))\n",
    "print('nan:', col.isna().sum())"
   ]
  },
  {
   "cell_type": "markdown",
   "metadata": {},
   "source": [
    "绘制属性**points**和**price**的散点图，发现两者并未呈现很强的线性关系。"
   ]
  },
  {
   "cell_type": "code",
   "execution_count": 22,
   "metadata": {},
   "outputs": [
    {
     "data": {
      "image/png": "[encoded data removed]",
      "text/plain": [
       "<Figure size 432x288 with 1 Axes>"
      ]
     },
     "metadata": {
      "needs_background": "light"
     },
     "output_type": "display_data"
    }
   ],
   "source": [
    "points = data['points']\n",
    "price = data['price']\n",
    "plt.xlabel('points')\n",
    "plt.ylabel('price')\n",
    "plt.title('the relationship of points and price')\n",
    "plt.scatter(points, price)\n",
    "plt.show()"
   ]
  },
  {
   "cell_type": "markdown",
   "metadata": {},
   "source": [
    "首先，剔除属性**price**中的离群点，再求出新数据集的平均数。再用该数来填补缺失数据。填补缺失数据后的属性**price**如下所示。"
   ]
  },
  {
   "cell_type": "code",
   "execution_count": 23,
   "metadata": {},
   "outputs": [
    {
     "name": "stdout",
     "output_type": "stream",
     "text": [
      "      price  frequency\n",
      "32.0  10959   0.084319\n",
      "20.0   6940   0.053397\n",
      "15.0   6066   0.046672\n",
      "25.0   5805   0.044664\n",
      "30.0   4951   0.038093\n",
      "18.0   4883   0.037570\n",
      "12.0   3934   0.030268\n",
      "40.0   3872   0.029791\n",
      "35.0   3801   0.029245\n",
      "13.0   3549   0.027306\n",
      "16.0   3547   0.027291\n",
      "10.0   3439   0.026460\n",
      "22.0   3357   0.025829\n",
      "50.0   3334   0.025652\n",
      "14.0   3215   0.024736\n",
      "...\n"
     ]
    },
    {
     "data": {
      "image/png": "[encoded data removed]",
      "text/plain": [
       "<Figure size 432x288 with 1 Axes>"
      ]
     },
     "metadata": {
      "needs_background": "light"
     },
     "output_type": "display_data"
    }
   ],
   "source": [
    "first_quartile = price.describe()['25%']\n",
    "third_quartile = price.describe()['75%']\n",
    "iqr = third_quartile - first_quartile\n",
    "data_new = data[(data['price'] > (first_quartile - 3 * iqr)) &\n",
    "           (data['price'] < (third_quartile + 3 * iqr))]\n",
    "\n",
    "col_name='price'\n",
    "col = data[col_name]\n",
    "col_2 = col.fillna(int(np.mean(data_new['price']+0.5)))\n",
    "show_column(col_2)"
   ]
  },
  {
   "cell_type": "markdown",
   "metadata": {},
   "source": [
    "# 2. 数据集2：Oakland Crime Statistics 2011 to 2016"
   ]
  },
  {
   "cell_type": "markdown",
   "metadata": {},
   "source": [
    "加载数据"
   ]
  },
  {
   "cell_type": "code",
   "execution_count": 24,
   "metadata": {},
   "outputs": [],
   "source": [
    "data = pd.read_csv(\"records-for-2016.csv\")\n",
    "data.drop([len(data)-1],inplace=True)"
   ]
  },
  {
   "cell_type": "markdown",
   "metadata": {},
   "source": [
    "## 2.1 数据摘要\n",
    "\n",
    "包括“数据信息”、“缺失值统计”、“数值数据摘要”、“标称数据摘要”共4部分。"
   ]
  },
  {
   "cell_type": "markdown",
   "metadata": {},
   "source": [
    "### 数据信息\n",
    "\n",
    "数据集中共有10列，110827行。其中有1列是数值属性，9列是标称属性."
   ]
  },
  {
   "cell_type": "code",
   "execution_count": 25,
   "metadata": {},
   "outputs": [
    {
     "name": "stdout",
     "output_type": "stream",
     "text": [
      "10 columns\n",
      "110827 rows\n",
      "object     9\n",
      "float64    1\n",
      "dtype: int64\n"
     ]
    }
   ],
   "source": [
    "print('%d columns' % len(data.columns))\n",
    "print('%d rows' % len(data.index))\n",
    "print(data.dtypes.value_counts())"
   ]
  },
  {
   "cell_type": "markdown",
   "metadata": {},
   "source": [
    "数据集中的前5行展示如下。"
   ]
  },
  {
   "cell_type": "code",
   "execution_count": 26,
   "metadata": {
    "scrolled": true
   },
   "outputs": [
    {
     "data": {
      "text/html": [
       "<div>\n",
       "<style scoped>\n",
       "    .dataframe tbody tr th:only-of-type {\n",
       "        vertical-align: middle;\n",
       "    }\n",
       "\n",
       "    .dataframe tbody tr th {\n",
       "        vertical-align: top;\n",
       "    }\n",
       "\n",
       "    .dataframe thead th {\n",
       "        text-align: right;\n",
       "    }\n",
       "</style>\n",
       "<table border=\"1\" class=\"dataframe\">\n",
       "  <thead>\n",
       "    <tr style=\"text-align: right;\">\n",
       "      <th></th>\n",
       "      <th>Agency</th>\n",
       "      <th>Create Time</th>\n",
       "      <th>Location</th>\n",
       "      <th>Area Id</th>\n",
       "      <th>Beat</th>\n",
       "      <th>Priority</th>\n",
       "      <th>Incident Type Id</th>\n",
       "      <th>Incident Type Description</th>\n",
       "      <th>Event Number</th>\n",
       "      <th>Closed Time</th>\n",
       "    </tr>\n",
       "  </thead>\n",
       "  <tbody>\n",
       "    <tr>\n",
       "      <th>0</th>\n",
       "      <td>OP</td>\n",
       "      <td>2016-01-01T00:00:57.000</td>\n",
       "      <td>ST&amp;MARKET ST</td>\n",
       "      <td>P1</td>\n",
       "      <td>05X</td>\n",
       "      <td>2.0</td>\n",
       "      <td>415GS</td>\n",
       "      <td>415 GUNSHOTS</td>\n",
       "      <td>LOP160101000003</td>\n",
       "      <td>2016-01-01T00:32:30.000</td>\n",
       "    </tr>\n",
       "    <tr>\n",
       "      <th>1</th>\n",
       "      <td>OP</td>\n",
       "      <td>2016-01-01T00:01:25.000</td>\n",
       "      <td>AV&amp;HAMILTON ST</td>\n",
       "      <td>P3</td>\n",
       "      <td>26Y</td>\n",
       "      <td>2.0</td>\n",
       "      <td>415GS</td>\n",
       "      <td>415 GUNSHOTS</td>\n",
       "      <td>LOP160101000005</td>\n",
       "      <td>2016-01-01T00:48:23.000</td>\n",
       "    </tr>\n",
       "    <tr>\n",
       "      <th>2</th>\n",
       "      <td>OP</td>\n",
       "      <td>2016-01-01T00:01:43.000</td>\n",
       "      <td>ST&amp;CHESTNUT ST</td>\n",
       "      <td>P1</td>\n",
       "      <td>02X</td>\n",
       "      <td>2.0</td>\n",
       "      <td>415GS</td>\n",
       "      <td>415 GUNSHOTS</td>\n",
       "      <td>LOP160101000008</td>\n",
       "      <td>2016-01-01T00:21:24.000</td>\n",
       "    </tr>\n",
       "    <tr>\n",
       "      <th>3</th>\n",
       "      <td>OP</td>\n",
       "      <td>2016-01-01T00:01:48.000</td>\n",
       "      <td>WALLACE ST</td>\n",
       "      <td>P2</td>\n",
       "      <td>18Y</td>\n",
       "      <td>2.0</td>\n",
       "      <td>415GS</td>\n",
       "      <td>415 GUNSHOTS</td>\n",
       "      <td>LOP160101000007</td>\n",
       "      <td>2016-01-01T01:15:03.000</td>\n",
       "    </tr>\n",
       "    <tr>\n",
       "      <th>4</th>\n",
       "      <td>OP</td>\n",
       "      <td>2016-01-01T00:02:05.000</td>\n",
       "      <td>90TH AV</td>\n",
       "      <td>P3</td>\n",
       "      <td>34X</td>\n",
       "      <td>2.0</td>\n",
       "      <td>415GS</td>\n",
       "      <td>415 GUNSHOTS</td>\n",
       "      <td>LOP160101000009</td>\n",
       "      <td>2016-01-01T00:54:52.000</td>\n",
       "    </tr>\n",
       "  </tbody>\n",
       "</table>\n",
       "</div>"
      ],
      "text/plain": [
       "  Agency              Create Time             Location Area Id Beat  Priority  \\\n",
       "0     OP  2016-01-01T00:00:57.000     ST&MARKET ST          P1  05X       2.0   \n",
       "1     OP  2016-01-01T00:01:25.000   AV&HAMILTON ST          P3  26Y       2.0   \n",
       "2     OP  2016-01-01T00:01:43.000   ST&CHESTNUT ST          P1  02X       2.0   \n",
       "3     OP  2016-01-01T00:01:48.000       WALLACE ST          P2  18Y       2.0   \n",
       "4     OP  2016-01-01T00:02:05.000          90TH AV          P3  34X       2.0   \n",
       "\n",
       "  Incident Type Id Incident Type Description     Event Number  \\\n",
       "0            415GS              415 GUNSHOTS  LOP160101000003   \n",
       "1            415GS              415 GUNSHOTS  LOP160101000005   \n",
       "2            415GS              415 GUNSHOTS  LOP160101000008   \n",
       "3            415GS              415 GUNSHOTS  LOP160101000007   \n",
       "4            415GS              415 GUNSHOTS  LOP160101000009   \n",
       "\n",
       "               Closed Time  \n",
       "0  2016-01-01T00:32:30.000  \n",
       "1  2016-01-01T00:48:23.000  \n",
       "2  2016-01-01T00:21:24.000  \n",
       "3  2016-01-01T01:15:03.000  \n",
       "4  2016-01-01T00:54:52.000  "
      ]
     },
     "execution_count": 26,
     "metadata": {},
     "output_type": "execute_result"
    }
   ],
   "source": [
    "data.head()"
   ]
  },
  {
   "cell_type": "markdown",
   "metadata": {},
   "source": [
    "### 缺失值统计\n",
    "\n",
    "统计每一列中的缺失值数量如下。本数据集中没有缺失值。"
   ]
  },
  {
   "cell_type": "code",
   "execution_count": 27,
   "metadata": {},
   "outputs": [
    {
     "data": {
      "text/plain": [
       "Agency                         0\n",
       "Create Time                    0\n",
       "Location                       0\n",
       "Area Id                        0\n",
       "Beat                         580\n",
       "Priority                       0\n",
       "Incident Type Id               0\n",
       "Incident Type Description      0\n",
       "Event Number                   0\n",
       "Closed Time                    0\n",
       "dtype: int64"
      ]
     },
     "execution_count": 27,
     "metadata": {},
     "output_type": "execute_result"
    }
   ],
   "source": [
    "data.isna().sum()"
   ]
  },
  {
   "cell_type": "markdown",
   "metadata": {},
   "source": [
    "### 数值数据摘要\n",
    "\n",
    "统计属性**priority**的数据数量，平均值，标准差，最小值，最大值，第1四分位点，中位数，第3四分位点信息如下。"
   ]
  },
  {
   "cell_type": "code",
   "execution_count": 28,
   "metadata": {},
   "outputs": [
    {
     "data": {
      "text/html": [
       "<div>\n",
       "<style scoped>\n",
       "    .dataframe tbody tr th:only-of-type {\n",
       "        vertical-align: middle;\n",
       "    }\n",
       "\n",
       "    .dataframe tbody tr th {\n",
       "        vertical-align: top;\n",
       "    }\n",
       "\n",
       "    .dataframe thead th {\n",
       "        text-align: right;\n",
       "    }\n",
       "</style>\n",
       "<table border=\"1\" class=\"dataframe\">\n",
       "  <thead>\n",
       "    <tr style=\"text-align: right;\">\n",
       "      <th></th>\n",
       "      <th>Priority</th>\n",
       "    </tr>\n",
       "  </thead>\n",
       "  <tbody>\n",
       "    <tr>\n",
       "      <th>count</th>\n",
       "      <td>110827.000000</td>\n",
       "    </tr>\n",
       "    <tr>\n",
       "      <th>mean</th>\n",
       "      <td>1.778438</td>\n",
       "    </tr>\n",
       "    <tr>\n",
       "      <th>std</th>\n",
       "      <td>0.415299</td>\n",
       "    </tr>\n",
       "    <tr>\n",
       "      <th>min</th>\n",
       "      <td>1.000000</td>\n",
       "    </tr>\n",
       "    <tr>\n",
       "      <th>25%</th>\n",
       "      <td>2.000000</td>\n",
       "    </tr>\n",
       "    <tr>\n",
       "      <th>50%</th>\n",
       "      <td>2.000000</td>\n",
       "    </tr>\n",
       "    <tr>\n",
       "      <th>75%</th>\n",
       "      <td>2.000000</td>\n",
       "    </tr>\n",
       "    <tr>\n",
       "      <th>max</th>\n",
       "      <td>2.000000</td>\n",
       "    </tr>\n",
       "  </tbody>\n",
       "</table>\n",
       "</div>"
      ],
      "text/plain": [
       "            Priority\n",
       "count  110827.000000\n",
       "mean        1.778438\n",
       "std         0.415299\n",
       "min         1.000000\n",
       "25%         2.000000\n",
       "50%         2.000000\n",
       "75%         2.000000\n",
       "max         2.000000"
      ]
     },
     "execution_count": 28,
     "metadata": {},
     "output_type": "execute_result"
    }
   ],
   "source": [
    "data.describe()"
   ]
  },
  {
   "cell_type": "markdown",
   "metadata": {},
   "source": [
    "### 标称属性摘要"
   ]
  },
  {
   "cell_type": "markdown",
   "metadata": {},
   "source": [
    "统计属性**Location**如下所示。"
   ]
  },
  {
   "cell_type": "code",
   "execution_count": 29,
   "metadata": {},
   "outputs": [
    {
     "name": "stdout",
     "output_type": "stream",
     "text": [
      "Colunm name: Location\n",
      "24046 different values.\n",
      "\n",
      "                            counts  frequency\n",
      " INTERNATIONAL BLVD           2156   0.019454\n",
      " AV&INTERNATIONAL BLVD        1829   0.016503\n",
      " MACARTHUR BLVD               1813   0.016359\n",
      " BROADWAY                     1472   0.013282\n",
      " 7TH ST                       1223   0.011035\n",
      " FOOTHILL BLVD                1052   0.009492\n",
      " TELEGRAPH AV                  875   0.007895\n",
      " SAN PABLO AV                  765   0.006903\n",
      " AV&MACARTHUR BLVD             737   0.006650\n",
      " FRUITVALE AV                  709   0.006397\n",
      " BANCROFT AV                   707   0.006379\n",
      " ST&BROADWAY                   691   0.006235\n",
      " HIGH ST                       678   0.006118\n",
      " ST&TELEGRAPH AV               638   0.005757\n",
      " 73RD AV                       595   0.005369\n",
      "...\n"
     ]
    },
    {
     "data": {
      "image/png": "[encoded data removed]",
      "text/plain": [
       "<Figure size 432x288 with 1 Axes>"
      ]
     },
     "metadata": {
      "needs_background": "light"
     },
     "output_type": "display_data"
    }
   ],
   "source": [
    "summary_column('Location')"
   ]
  },
  {
   "cell_type": "markdown",
   "metadata": {},
   "source": [
    "统计属性**Area Id**如下所示。"
   ]
  },
  {
   "cell_type": "code",
   "execution_count": 30,
   "metadata": {},
   "outputs": [
    {
     "name": "stdout",
     "output_type": "stream",
     "text": [
      "Colunm name: Area Id\n",
      "8 different values.\n",
      "\n",
      "     counts  frequency\n",
      "P3    47425   0.427919\n",
      "P1    41419   0.373727\n",
      "P2    19610   0.176942\n",
      "POU    2173   0.019607\n",
      "PCW     194   0.001750\n",
      "TEC       4   0.000036\n",
      "WAG       1   0.000009\n",
      "JLS       1   0.000009\n"
     ]
    },
    {
     "data": {
      "image/png": "[encoded data removed]",
      "text/plain": [
       "<Figure size 432x288 with 1 Axes>"
      ]
     },
     "metadata": {
      "needs_background": "light"
     },
     "output_type": "display_data"
    }
   ],
   "source": [
    "summary_column('Area Id')"
   ]
  },
  {
   "cell_type": "markdown",
   "metadata": {},
   "source": [
    "统计属性**Beat**如下所示。"
   ]
  },
  {
   "cell_type": "code",
   "execution_count": 31,
   "metadata": {},
   "outputs": [
    {
     "name": "stdout",
     "output_type": "stream",
     "text": [
      "Colunm name: Beat\n",
      "58 different values.\n",
      "\n",
      "     counts  frequency\n",
      "04X    4515   0.040739\n",
      "08X    3931   0.035470\n",
      "26Y    3511   0.031680\n",
      "30Y    3473   0.031337\n",
      "19X    3455   0.031175\n",
      "30X    3416   0.030823\n",
      "03X    3195   0.028829\n",
      "23X    3076   0.027755\n",
      "34X    2857   0.025779\n",
      "07X    2831   0.025544\n",
      "20X    2702   0.024380\n",
      "29X    2646   0.023875\n",
      "06X    2580   0.023280\n",
      "03Y    2562   0.023117\n",
      "27Y    2517   0.022711\n",
      "...\n"
     ]
    },
    {
     "data": {
      "image/png": "[encoded data removed]",
      "text/plain": [
       "<Figure size 432x288 with 1 Axes>"
      ]
     },
     "metadata": {
      "needs_background": "light"
     },
     "output_type": "display_data"
    }
   ],
   "source": [
    "summary_column('Beat')"
   ]
  },
  {
   "cell_type": "markdown",
   "metadata": {},
   "source": [
    "统计属性**Incident Type Id**如下所示。"
   ]
  },
  {
   "cell_type": "code",
   "execution_count": 32,
   "metadata": {},
   "outputs": [
    {
     "name": "stdout",
     "output_type": "stream",
     "text": [
      "Colunm name: Incident Type Id\n",
      "242 different values.\n",
      "\n",
      "       counts  frequency\n",
      "933R    10094   0.091079\n",
      "415      7883   0.071129\n",
      "SECCK    7251   0.065426\n",
      "10851    5308   0.047894\n",
      "911H     5089   0.045918\n",
      "5150     4859   0.043843\n",
      "415C     3701   0.033394\n",
      "242      3483   0.031427\n",
      "912      2583   0.023307\n",
      "949      2504   0.022594\n",
      "HAZ      2424   0.021872\n",
      "243E     2310   0.020843\n",
      "WELCK    2276   0.020537\n",
      "415GS    2025   0.018272\n",
      "901A     1730   0.015610\n",
      "...\n"
     ]
    },
    {
     "data": {
      "image/png": "[encoded data removed]",
      "text/plain": [
       "<Figure size 432x288 with 1 Axes>"
      ]
     },
     "metadata": {
      "needs_background": "light"
     },
     "output_type": "display_data"
    }
   ],
   "source": [
    "summary_column('Incident Type Id')"
   ]
  },
  {
   "cell_type": "markdown",
   "metadata": {},
   "source": [
    "## 2.2 处理缺失数据"
   ]
  },
  {
   "cell_type": "markdown",
   "metadata": {},
   "source": [
    "**处理缺失标称属性**"
   ]
  },
  {
   "cell_type": "markdown",
   "metadata": {},
   "source": [
    "属性**Beat**中共有110827个数据，其中580个数据为空数据。"
   ]
  },
  {
   "cell_type": "code",
   "execution_count": 33,
   "metadata": {},
   "outputs": [
    {
     "name": "stdout",
     "output_type": "stream",
     "text": [
      "column: Beat\n",
      "total: 110827\n",
      "nan: 580\n"
     ]
    }
   ],
   "source": [
    "col_name = 'Beat'\n",
    "col = data[col_name]\n",
    "\n",
    "print('column:', col_name)\n",
    "print('total:', len(col))\n",
    "print('nan:', col.isna().sum())"
   ]
  },
  {
   "cell_type": "markdown",
   "metadata": {},
   "source": [
    "删除属性**Beat**中的空数据，结果统计如下。"
   ]
  },
  {
   "cell_type": "code",
   "execution_count": 34,
   "metadata": {},
   "outputs": [
    {
     "name": "stdout",
     "output_type": "stream",
     "text": [
      "     Beat  frequency\n",
      "04X  4515   0.040953\n",
      "08X  3931   0.035656\n",
      "26Y  3511   0.031847\n",
      "30Y  3473   0.031502\n",
      "19X  3455   0.031339\n",
      "30X  3416   0.030985\n",
      "03X  3195   0.028980\n",
      "23X  3076   0.027901\n",
      "34X  2857   0.025915\n",
      "07X  2831   0.025679\n",
      "20X  2702   0.024509\n",
      "29X  2646   0.024001\n",
      "06X  2580   0.023402\n",
      "03Y  2562   0.023239\n",
      "27Y  2517   0.022831\n",
      "...\n"
     ]
    },
    {
     "data": {
      "image/png": "[encoded data removed]",
      "text/plain": [
       "<Figure size 432x288 with 1 Axes>"
      ]
     },
     "metadata": {
      "needs_background": "light"
     },
     "output_type": "display_data"
    }
   ],
   "source": [
    "col_1 = col.dropna()\n",
    "show_column(col_1)"
   ]
  },
  {
   "cell_type": "markdown",
   "metadata": {},
   "source": [
    "利用属性**Beat**中的众数来填补缺失值。"
   ]
  },
  {
   "cell_type": "code",
   "execution_count": 35,
   "metadata": {},
   "outputs": [
    {
     "name": "stdout",
     "output_type": "stream",
     "text": [
      "     Beat  frequency\n",
      "04X  5095   0.045973\n",
      "08X  3931   0.035470\n",
      "26Y  3511   0.031680\n",
      "30Y  3473   0.031337\n",
      "19X  3455   0.031175\n",
      "30X  3416   0.030823\n",
      "03X  3195   0.028829\n",
      "23X  3076   0.027755\n",
      "34X  2857   0.025779\n",
      "07X  2831   0.025544\n",
      "20X  2702   0.024380\n",
      "29X  2646   0.023875\n",
      "06X  2580   0.023280\n",
      "03Y  2562   0.023117\n",
      "27Y  2517   0.022711\n",
      "...\n"
     ]
    },
    {
     "data": {
      "image/png": "[encoded data removed]",
      "text/plain": [
       "<Figure size 432x288 with 1 Axes>"
      ]
     },
     "metadata": {
      "needs_background": "light"
     },
     "output_type": "display_data"
    }
   ],
   "source": [
    "col_2 = col.fillna(col.mode()[0])\n",
    "show_column(col_2)"
   ]
  }
 ],
 "metadata": {
  "kernelspec": {
   "display_name": "Python 3",
   "language": "python",
   "name": "python3"
  },
  "language_info": {
   "codemirror_mode": {
    "name": "ipython",
    "version": 3
   },
   "file_extension": ".py",
   "mimetype": "text/x-python",
   "name": "python",
   "nbconvert_exporter": "python",
   "pygments_lexer": "ipython3",
   "version": "3.8.5"
  }
 },
 "nbformat": 4,
 "nbformat_minor": 4
}
